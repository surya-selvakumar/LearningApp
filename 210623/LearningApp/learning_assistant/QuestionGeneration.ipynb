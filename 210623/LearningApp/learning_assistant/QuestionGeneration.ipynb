{
 "cells": [
  {
   "cell_type": "markdown",
   "metadata": {
    "tags": []
   },
   "source": [
    "## Imports"
   ]
  },
  {
   "cell_type": "code",
   "execution_count": 1,
   "metadata": {},
   "outputs": [],
   "source": [
    "import pandas as pd\n",
    "from IPython.display import Markdown, display"
   ]
  },
  {
   "cell_type": "code",
   "execution_count": 2,
   "metadata": {},
   "outputs": [],
   "source": [
    "import _pickle as cPickle\n",
    "from pathlib import Path\n",
    "\n",
    "def dumpPickle(fileName, content):\n",
    "    pickleFile = open(fileName, 'wb')\n",
    "    cPickle.dump(content, pickleFile, -1)\n",
    "    pickleFile.close()\n",
    "\n",
    "def loadPickle(fileName):    \n",
    "    file = open(fileName, 'rb')\n",
    "    content = cPickle.load(file)\n",
    "    file.close()\n",
    "    \n",
    "    return content\n",
    "    \n",
    "def pickleExists(fileName):\n",
    "    file = Path(fileName)\n",
    "    \n",
    "    if file.is_file():\n",
    "        return True\n",
    "    \n",
    "    return False"
   ]
  },
  {
   "cell_type": "code",
   "execution_count": 3,
   "metadata": {},
   "outputs": [],
   "source": [
    "import spacy\n",
    "from spacy import displacy\n",
    "nlp = spacy.load('en_core_web_sm')\n",
    "\n",
    "#Extract answers and the sentence they are in\n",
    "def extractAnswers(qas, doc):\n",
    "    answers = []\n",
    "\n",
    "    senStart = 0\n",
    "    senId = 0\n",
    "\n",
    "    for sentence in doc.sents:\n",
    "        senLen = len(sentence.text)\n",
    "\n",
    "        for answer in qas:\n",
    "            answerStart = answer['answers'][0]['answer_start']\n",
    "\n",
    "            if (answerStart >= senStart and answerStart < (senStart + senLen)):\n",
    "                answers.append({'sentenceId': senId, 'text': answer['answers'][0]['text']})\n",
    "\n",
    "        senStart += senLen\n",
    "        senId += 1\n",
    "    \n",
    "    return answers\n",
    "\n",
    "#TODO - Clean answers from stopwords?\n",
    "def tokenIsAnswer(token, sentenceId, answers):\n",
    "    for i in range(len(answers)):\n",
    "        if (answers[i]['sentenceId'] == sentenceId):\n",
    "            if (answers[i]['text'] == token):\n",
    "                return True\n",
    "    return False\n",
    "\n",
    "#Save named entities start points\n",
    "\n",
    "def getNEStartIndexs(doc):\n",
    "    neStarts = {}\n",
    "    for ne in doc.ents:\n",
    "        neStarts[ne.start] = ne\n",
    "        \n",
    "    return neStarts \n",
    "\n",
    "def getSentenceStartIndexes(doc):\n",
    "    senStarts = []\n",
    "    \n",
    "    for sentence in doc.sents:\n",
    "        senStarts.append(sentence[0].i)\n",
    "    \n",
    "    return senStarts\n",
    "    \n",
    "def getSentenceForWordPosition(wordPos, senStarts):\n",
    "    for i in range(1, len(senStarts)):\n",
    "        if (wordPos < senStarts[i]):\n",
    "            return i - 1\n",
    "        \n",
    "def addWordsForParagrapgh(newWords, text):\n",
    "    doc = nlp(text)\n",
    "\n",
    "    neStarts = getNEStartIndexs(doc)\n",
    "    senStarts = getSentenceStartIndexes(doc)\n",
    "    \n",
    "    #index of word in spacy doc text\n",
    "    i = 0\n",
    "    \n",
    "    while (i < len(doc)):\n",
    "        #If the token is a start of a Named Entity, add it and push to index to end of the NE\n",
    "        if (i in neStarts):\n",
    "            word = neStarts[i]\n",
    "            #add word\n",
    "            currentSentence = getSentenceForWordPosition(word.start, senStarts)\n",
    "            wordLen = word.end - word.start\n",
    "            shape = ''\n",
    "            for wordIndex in range(word.start, word.end):\n",
    "                shape += (' ' + doc[wordIndex].shape_)\n",
    "\n",
    "            newWords.append([word.text,\n",
    "                            0,\n",
    "                            0,\n",
    "                            currentSentence,\n",
    "                            wordLen,\n",
    "                            word.label_,\n",
    "                            None,\n",
    "                            None,\n",
    "                            None,\n",
    "                            shape])\n",
    "            i = neStarts[i].end - 1\n",
    "        #If not a NE, add the word if it's not a stopword or a non-alpha (not regular letters)\n",
    "        else:\n",
    "            if (doc[i].is_stop == False and doc[i].is_alpha == True):\n",
    "                word = doc[i]\n",
    "\n",
    "                currentSentence = getSentenceForWordPosition(i, senStarts)\n",
    "                wordLen = 1\n",
    "\n",
    "                newWords.append([word.text,\n",
    "                                0,\n",
    "                                0,\n",
    "                                currentSentence,\n",
    "                                wordLen,\n",
    "                                None,\n",
    "                                word.pos_,\n",
    "                                word.tag_,\n",
    "                                word.dep_,\n",
    "                                word.shape_])\n",
    "        i += 1\n",
    "\n",
    "def oneHotEncodeColumns(df):\n",
    "    columnsToEncode = ['NER', 'POS', \"TAG\", 'DEP']\n",
    "\n",
    "    for column in columnsToEncode:\n",
    "        one_hot = pd.get_dummies(df[column])\n",
    "        one_hot = one_hot.add_prefix(column + '_')\n",
    "\n",
    "        df = df.drop(column, axis = 1)\n",
    "        df = df.join(one_hot)\n",
    "    \n",
    "    return df"
   ]
  },
  {
   "cell_type": "code",
   "execution_count": 4,
   "metadata": {},
   "outputs": [],
   "source": [
    "def generateDf(text):\n",
    "    words = []\n",
    "    addWordsForParagrapgh(words, text)\n",
    "\n",
    "    wordColums = ['text', 'titleId', 'paragrapghId', 'sentenceId','wordCount', 'NER', 'POS', 'TAG', 'DEP','shape']\n",
    "    df = pd.DataFrame(words, columns=wordColums)\n",
    "    \n",
    "    return df"
   ]
  },
  {
   "cell_type": "code",
   "execution_count": 5,
   "metadata": {},
   "outputs": [],
   "source": [
    "def prepareDf(df):\n",
    "    #One-hot encoding\n",
    "    wordsDf = oneHotEncodeColumns(df)\n",
    "\n",
    "\n",
    "    #Add missing colums \n",
    "    predictorFeaturesName = 'data/pickles/nb-predictor-features.pkl'\n",
    "    featureNames = loadPickle(predictorFeaturesName)\n",
    "\n",
    "    for feature in featureNames:\n",
    "        if feature not in wordsDf.columns:\n",
    "            wordsDf[feature] = 0    \n",
    "                \n",
    "    #Drop unused columns\n",
    "    columnsToDrop = ['text', 'titleId', 'paragrapghId', 'sentenceId', 'shape', 'isAnswer']\n",
    "    wordsDf = wordsDf.drop(columnsToDrop, axis = 1)\n",
    "\n",
    "\n",
    "    return wordsDf"
   ]
  },
  {
   "cell_type": "code",
   "execution_count": 6,
   "metadata": {},
   "outputs": [],
   "source": [
    "def predictWords(wordsDf, df):\n",
    "    \n",
    "    predictorPickleName = 'data/pickles/nb-predictor.pkl'\n",
    "    predictor = loadPickle(predictorPickleName)\n",
    "    \n",
    "    y_pred = predictor.predict_proba(wordsDf)\n",
    "\n",
    "    labeledAnswers = []\n",
    "    for i in range(len(y_pred)):\n",
    "        labeledAnswers.append({'word': df.iloc[i]['text'], 'prob': y_pred[i][0]})\n",
    "    \n",
    "    return labeledAnswers"
   ]
  },
  {
   "cell_type": "code",
   "execution_count": 7,
   "metadata": {},
   "outputs": [],
   "source": [
    "def blankAnswer(firstTokenIndex, lastTokenIndex, sentStart, sentEnd, doc):\n",
    "    leftPartStart = doc[sentStart].idx\n",
    "    leftPartEnd = doc[firstTokenIndex].idx\n",
    "    rightPartStart = doc[lastTokenIndex].idx + len(doc[lastTokenIndex])\n",
    "    rightPartEnd = doc[sentEnd - 1].idx + len(doc[sentEnd - 1])\n",
    "    \n",
    "    question = doc.text[leftPartStart:leftPartEnd] + '_____' + doc.text[rightPartStart:rightPartEnd]\n",
    "    \n",
    "    return question\n"
   ]
  },
  {
   "cell_type": "code",
   "execution_count": 8,
   "metadata": {},
   "outputs": [],
   "source": [
    "def addQuestions(answers, text):\n",
    "    doc = nlp(text)\n",
    "    currAnswerIndex = 0\n",
    "    qaPair = []\n",
    "\n",
    "    #Check wheter each token is the next answer\n",
    "    for sent in doc.sents:\n",
    "        for token in sent:\n",
    "            \n",
    "            #If all the answers have been found, stop looking\n",
    "            if currAnswerIndex >= len(answers):\n",
    "                break\n",
    "            \n",
    "            #In the case where the answer is consisted of more than one token, check the following tokens as well.\n",
    "            answerDoc = nlp(answers[currAnswerIndex]['word'])\n",
    "            answerIsFound = True\n",
    "            \n",
    "            for j in range(len(answerDoc)):\n",
    "                if token.i + j >= len(doc) or doc[token.i + j].text != answerDoc[j].text:\n",
    "                    answerIsFound = False\n",
    "           \n",
    "            #If the current token is corresponding with the answer, add it \n",
    "            if answerIsFound:\n",
    "                question = blankAnswer(token.i, token.i + len(answerDoc) - 1, sent.start, sent.end, doc)\n",
    "                \n",
    "                qaPair.append({'question' : question, 'answer': answers[currAnswerIndex]['word'], 'prob': answers[currAnswerIndex]['prob']})\n",
    "                \n",
    "                currAnswerIndex += 1\n",
    "                \n",
    "    return qaPair"
   ]
  },
  {
   "cell_type": "code",
   "execution_count": 9,
   "metadata": {},
   "outputs": [],
   "source": [
    "def sortAnswers(qaPairs):\n",
    "    orderedQaPairs = sorted(qaPairs, key=lambda qaPair: qaPair['prob'])\n",
    "    \n",
    "    return orderedQaPairs    "
   ]
  },
  {
   "cell_type": "code",
   "execution_count": 14,
   "metadata": {},
   "outputs": [
    {
     "name": "stderr",
     "output_type": "stream",
     "text": [
      "C:\\Users\\SURYA S\\AppData\\Local\\Temp\\ipykernel_15520\\438181657.py:12: DeprecationWarning: Call to deprecated `glove2word2vec` (KeyedVectors.load_word2vec_format(.., binary=False, no_header=True) loads GLoVE text vectors.).\n",
      "  glove2word2vec(glove_file, tmp_file)\n"
     ]
    }
   ],
   "source": [
    "import os\n",
    "import gensim\n",
    "from gensim.test.utils import datapath, get_tmpfile\n",
    "from gensim.models import KeyedVectors\n",
    "\n",
    "glove_file = 'data/embeddings/glove.6B.300d.txt'\n",
    "tmp_file = 'data/embeddings/word2vec-glove.6B.300d.txt'\n",
    "model = None\n",
    "\n",
    "if os.path.isfile(glove_file):\n",
    "    from gensim.scripts.glove2word2vec import glove2word2vec\n",
    "    glove2word2vec(glove_file, tmp_file)\n",
    "    model = KeyedVectors.load_word2vec_format(tmp_file)\n",
    "else:\n",
    "    print(\"Glove embeddings not found. Please download and place them in the following path: \" + glove_file)"
   ]
  },
  {
   "cell_type": "code",
   "execution_count": 15,
   "metadata": {},
   "outputs": [],
   "source": [
    "def generate_distractors(answer, count):\n",
    "    answer = str.lower(answer)\n",
    "    \n",
    "    ##Extracting closest words for the answer. \n",
    "    try:\n",
    "        closestWords = model.most_similar(positive=[answer], topn=count)\n",
    "    except:\n",
    "        #In case the word is not in the vocabulary, or other problem not loading embeddings\n",
    "        return []\n",
    "\n",
    "    #Return count many distractors\n",
    "    distractors = list(map(lambda x: x[0], closestWords))[0:count]\n",
    "    \n",
    "    return distractors"
   ]
  },
  {
   "cell_type": "code",
   "execution_count": 16,
   "metadata": {},
   "outputs": [],
   "source": [
    "def addDistractors(qaPairs, count):\n",
    "    if not model:\n",
    "        print(\"Glove embeddings not found. Please download and place them in the following path: \" + glove_file)\n",
    "    \n",
    "    for qaPair in qaPairs:\n",
    "        distractors = generate_distractors(qaPair['answer'], count)\n",
    "        qaPair['distractors'] = distractors\n",
    "    \n",
    "    return qaPairs"
   ]
  },
  {
   "cell_type": "code",
   "execution_count": 17,
   "metadata": {},
   "outputs": [],
   "source": [
    "def generateQuestions(text, count):\n",
    "    \n",
    "    # Extract words \n",
    "    df = generateDf(text)\n",
    "    wordsDf = prepareDf(df)\n",
    "    print(wordsDf)\n",
    "    \n",
    "    # Predict \n",
    "    labeledAnswers = predictWords(wordsDf, df)\n",
    "    \n",
    "    # Transform questions\n",
    "    qaPairs = addQuestions(labeledAnswers, text)\n",
    "    \n",
    "    # Pick the best questions\n",
    "    orderedQaPairs = sortAnswers(qaPairs)\n",
    "    \n",
    "    # Generate distractors\n",
    "    questions = addDistractors(orderedQaPairs[:count], 4)\n",
    "    print(questions)\n",
    "    # Print\n",
    "    for i in range(count):\n",
    "        display(Markdown('### Question ' + str(i + 1) + ':'))\n",
    "        print(questions[i]['question'])\n",
    "\n",
    "        display(Markdown('#### Answer:'))\n",
    "        print(questions[i]['answer'])\n",
    "        \n",
    "        display(Markdown('#### Incorrect answers:'))\n",
    "        for distractor in questions[i]['distractors']:\n",
    "            print(distractor)\n",
    "        \n",
    "        print()"
   ]
  },
  {
   "cell_type": "code",
   "execution_count": 18,
   "metadata": {},
   "outputs": [
    {
     "name": "stdout",
     "output_type": "stream",
     "text": [
      "    wordCount  NER_CARDINAL  NER_LOC  NER_ORDINAL  NER_PERCENT  POS_ADJ  \\\n",
      "0           1         False    False        False        False    False   \n",
      "1           1         False    False        False        False    False   \n",
      "2           1         False    False        False        False    False   \n",
      "3           1         False    False        False        False    False   \n",
      "4           1         False    False        False        False    False   \n",
      "5           1         False    False        False        False     True   \n",
      "6           1         False    False        False        False    False   \n",
      "7           1          True    False        False        False    False   \n",
      "8           1         False    False        False        False    False   \n",
      "9           1         False    False        False        False    False   \n",
      "10          1         False    False        False        False    False   \n",
      "11          1         False    False        False        False     True   \n",
      "12          1         False    False        False        False    False   \n",
      "13          1         False    False        False        False    False   \n",
      "14          1         False    False        False        False     True   \n",
      "15          1         False    False        False        False    False   \n",
      "16          1         False    False        False        False     True   \n",
      "17          1         False    False        False        False    False   \n",
      "18          1         False    False        False        False    False   \n",
      "19          1         False    False        False        False    False   \n",
      "20          1         False    False        False        False    False   \n",
      "21          1         False    False        False        False    False   \n",
      "22          1         False    False        False        False    False   \n",
      "23          1         False    False        False        False    False   \n",
      "24          1         False    False        False        False    False   \n",
      "25          1         False    False         True        False    False   \n",
      "26          1         False    False        False        False     True   \n",
      "27          1         False    False        False        False    False   \n",
      "28          1         False    False        False        False    False   \n",
      "29          1         False    False        False        False    False   \n",
      "30          1         False    False        False        False    False   \n",
      "31          1         False    False        False        False     True   \n",
      "32          1         False    False        False        False    False   \n",
      "33          1         False    False        False        False    False   \n",
      "34          1          True    False        False        False    False   \n",
      "35          1         False    False        False        False    False   \n",
      "36          1         False    False        False        False    False   \n",
      "37          1         False    False        False        False    False   \n",
      "38          1         False    False        False        False    False   \n",
      "39          1         False    False        False        False    False   \n",
      "40          1         False    False        False        False     True   \n",
      "41          1         False    False        False        False     True   \n",
      "42          1         False    False        False        False     True   \n",
      "43          1         False    False        False        False    False   \n",
      "44          1         False    False        False        False    False   \n",
      "45          1         False    False        False        False     True   \n",
      "46          1         False    False        False        False    False   \n",
      "47          1         False    False        False        False    False   \n",
      "48          1         False    False        False        False    False   \n",
      "49          2         False    False        False         True    False   \n",
      "50          1         False     True        False        False    False   \n",
      "51          1         False    False        False        False    False   \n",
      "52          1         False    False        False        False    False   \n",
      "53          1         False    False        False        False    False   \n",
      "54          1         False    False        False        False    False   \n",
      "55          1         False    False        False        False    False   \n",
      "56          1         False    False        False        False    False   \n",
      "57          2          True    False        False        False    False   \n",
      "58          1         False     True        False        False    False   \n",
      "59          1         False    False        False        False    False   \n",
      "\n",
      "    POS_ADV  POS_NOUN  POS_PROPN  POS_VERB  ...  DEP_nmod  DEP_npadvmod  \\\n",
      "0     False      True      False     False  ...         0             0   \n",
      "1     False      True      False     False  ...         0             0   \n",
      "2     False      True      False     False  ...         0             0   \n",
      "3     False      True      False     False  ...         0             0   \n",
      "4     False      True      False     False  ...         0             0   \n",
      "5     False     False      False     False  ...         0             0   \n",
      "6     False      True      False     False  ...         0             0   \n",
      "7     False     False      False     False  ...         0             0   \n",
      "8     False      True      False     False  ...         0             0   \n",
      "9     False     False       True     False  ...         0             0   \n",
      "10    False     False       True     False  ...         0             0   \n",
      "11    False     False      False     False  ...         0             0   \n",
      "12    False      True      False     False  ...         0             0   \n",
      "13     True     False      False     False  ...         0             0   \n",
      "14    False     False      False     False  ...         0             0   \n",
      "15    False      True      False     False  ...         0             0   \n",
      "16    False     False      False     False  ...         0             0   \n",
      "17    False      True      False     False  ...         0             0   \n",
      "18     True     False      False     False  ...         0             0   \n",
      "19    False     False      False      True  ...         0             0   \n",
      "20    False      True      False     False  ...         0             0   \n",
      "21    False      True      False     False  ...         0             0   \n",
      "22    False      True      False     False  ...         0             0   \n",
      "23    False      True      False     False  ...         0             0   \n",
      "24    False      True      False     False  ...         0             0   \n",
      "25    False     False      False     False  ...         0             0   \n",
      "26    False     False      False     False  ...         0             0   \n",
      "27    False      True      False     False  ...         0             0   \n",
      "28    False      True      False     False  ...         0             0   \n",
      "29    False      True      False     False  ...         0             0   \n",
      "30    False      True      False     False  ...         0             0   \n",
      "31    False     False      False     False  ...         0             0   \n",
      "32    False      True      False     False  ...         0             0   \n",
      "33    False      True      False     False  ...         0             0   \n",
      "34    False     False      False     False  ...         0             0   \n",
      "35    False      True      False     False  ...         0             0   \n",
      "36    False      True      False     False  ...         0             0   \n",
      "37    False      True      False     False  ...         0             0   \n",
      "38    False     False      False      True  ...         0             0   \n",
      "39    False     False       True     False  ...         0             0   \n",
      "40    False     False      False     False  ...         0             0   \n",
      "41    False     False      False     False  ...         0             0   \n",
      "42    False     False      False     False  ...         0             0   \n",
      "43    False      True      False     False  ...         0             0   \n",
      "44    False      True      False     False  ...         0             0   \n",
      "45    False     False      False     False  ...         0             0   \n",
      "46    False      True      False     False  ...         0             0   \n",
      "47    False      True      False     False  ...         0             0   \n",
      "48    False     False      False      True  ...         0             0   \n",
      "49    False     False      False     False  ...         0             0   \n",
      "50    False     False      False     False  ...         0             0   \n",
      "51    False      True      False     False  ...         0             0   \n",
      "52    False      True      False     False  ...         0             0   \n",
      "53    False     False      False      True  ...         0             0   \n",
      "54    False      True      False     False  ...         0             0   \n",
      "55    False      True      False     False  ...         0             0   \n",
      "56    False     False      False      True  ...         0             0   \n",
      "57    False     False      False     False  ...         0             0   \n",
      "58    False     False      False     False  ...         0             0   \n",
      "59    False      True      False     False  ...         0             0   \n",
      "\n",
      "    DEP_nsubjpass  DEP_nummod  DEP_oprd  DEP_parataxis  DEP_pcomp  DEP_poss  \\\n",
      "0               0           0         0              0          0         0   \n",
      "1               0           0         0              0          0         0   \n",
      "2               0           0         0              0          0         0   \n",
      "3               0           0         0              0          0         0   \n",
      "4               0           0         0              0          0         0   \n",
      "5               0           0         0              0          0         0   \n",
      "6               0           0         0              0          0         0   \n",
      "7               0           0         0              0          0         0   \n",
      "8               0           0         0              0          0         0   \n",
      "9               0           0         0              0          0         0   \n",
      "10              0           0         0              0          0         0   \n",
      "11              0           0         0              0          0         0   \n",
      "12              0           0         0              0          0         0   \n",
      "13              0           0         0              0          0         0   \n",
      "14              0           0         0              0          0         0   \n",
      "15              0           0         0              0          0         0   \n",
      "16              0           0         0              0          0         0   \n",
      "17              0           0         0              0          0         0   \n",
      "18              0           0         0              0          0         0   \n",
      "19              0           0         0              0          0         0   \n",
      "20              0           0         0              0          0         0   \n",
      "21              0           0         0              0          0         0   \n",
      "22              0           0         0              0          0         0   \n",
      "23              0           0         0              0          0         0   \n",
      "24              0           0         0              0          0         0   \n",
      "25              0           0         0              0          0         0   \n",
      "26              0           0         0              0          0         0   \n",
      "27              0           0         0              0          0         0   \n",
      "28              0           0         0              0          0         0   \n",
      "29              0           0         0              0          0         0   \n",
      "30              0           0         0              0          0         0   \n",
      "31              0           0         0              0          0         0   \n",
      "32              0           0         0              0          0         0   \n",
      "33              0           0         0              0          0         0   \n",
      "34              0           0         0              0          0         0   \n",
      "35              0           0         0              0          0         0   \n",
      "36              0           0         0              0          0         0   \n",
      "37              0           0         0              0          0         0   \n",
      "38              0           0         0              0          0         0   \n",
      "39              0           0         0              0          0         0   \n",
      "40              0           0         0              0          0         0   \n",
      "41              0           0         0              0          0         0   \n",
      "42              0           0         0              0          0         0   \n",
      "43              0           0         0              0          0         0   \n",
      "44              0           0         0              0          0         0   \n",
      "45              0           0         0              0          0         0   \n",
      "46              0           0         0              0          0         0   \n",
      "47              0           0         0              0          0         0   \n",
      "48              0           0         0              0          0         0   \n",
      "49              0           0         0              0          0         0   \n",
      "50              0           0         0              0          0         0   \n",
      "51              0           0         0              0          0         0   \n",
      "52              0           0         0              0          0         0   \n",
      "53              0           0         0              0          0         0   \n",
      "54              0           0         0              0          0         0   \n",
      "55              0           0         0              0          0         0   \n",
      "56              0           0         0              0          0         0   \n",
      "57              0           0         0              0          0         0   \n",
      "58              0           0         0              0          0         0   \n",
      "59              0           0         0              0          0         0   \n",
      "\n",
      "    DEP_predet  DEP_xcomp  \n",
      "0            0          0  \n",
      "1            0          0  \n",
      "2            0          0  \n",
      "3            0          0  \n",
      "4            0          0  \n",
      "5            0          0  \n",
      "6            0          0  \n",
      "7            0          0  \n",
      "8            0          0  \n",
      "9            0          0  \n",
      "10           0          0  \n",
      "11           0          0  \n",
      "12           0          0  \n",
      "13           0          0  \n",
      "14           0          0  \n",
      "15           0          0  \n",
      "16           0          0  \n",
      "17           0          0  \n",
      "18           0          0  \n",
      "19           0          0  \n",
      "20           0          0  \n",
      "21           0          0  \n",
      "22           0          0  \n",
      "23           0          0  \n",
      "24           0          0  \n",
      "25           0          0  \n",
      "26           0          0  \n",
      "27           0          0  \n",
      "28           0          0  \n",
      "29           0          0  \n",
      "30           0          0  \n",
      "31           0          0  \n",
      "32           0          0  \n",
      "33           0          0  \n",
      "34           0          0  \n",
      "35           0          0  \n",
      "36           0          0  \n",
      "37           0          0  \n",
      "38           0          0  \n",
      "39           0          0  \n",
      "40           0          0  \n",
      "41           0          0  \n",
      "42           0          0  \n",
      "43           0          0  \n",
      "44           0          0  \n",
      "45           0          0  \n",
      "46           0          0  \n",
      "47           0          0  \n",
      "48           0          0  \n",
      "49           0          0  \n",
      "50           0          0  \n",
      "51           0          0  \n",
      "52           0          0  \n",
      "53           0          0  \n",
      "54           0          0  \n",
      "55           0          0  \n",
      "56           0          0  \n",
      "57           0          0  \n",
      "58           0          0  \n",
      "59           0          0  \n",
      "\n",
      "[60 rows x 77 columns]\n"
     ]
    },
    {
     "name": "stderr",
     "output_type": "stream",
     "text": [
      "c:\\Users\\SURYA S\\210623\\LearningApp\\venv\\lib\\site-packages\\sklearn\\base.py:310: UserWarning: Trying to unpickle estimator GaussianNB from version 0.24.1 when using version 0.24.2. This might lead to breaking code or invalid results. Use at your own risk.\n",
      "  warnings.warn(\n",
      "c:\\Users\\SURYA S\\210623\\LearningApp\\venv\\lib\\site-packages\\sklearn\\utils\\validation.py:571: FutureWarning: is_sparse is deprecated and will be removed in a future version. Check `isinstance(dtype, pd.SparseDtype)` instead.\n",
      "  array.dtypes.apply(is_sparse).any()):\n"
     ]
    },
    {
     "name": "stdout",
     "output_type": "stream",
     "text": [
      "[{'question': 'Oxygen is a _____ element with symbol O and atomic number 8.', 'answer': 'chemical', 'prob': 0.0, 'distractors': ['chemicals', 'biological', 'toxic', 'compounds']}, {'question': 'Oxygen is a chemical element with _____ O and atomic number 8.', 'answer': 'symbol', 'prob': 0.0, 'distractors': ['symbols', 'symbolizes', 'symbolized', 'symbolize']}, {'question': 'At standard temperature and pressure, two atoms of the _____ bind to form dioxygen, a colorless and odorless diatomic gas with the formula O2.', 'answer': 'element', 'prob': 0.0, 'distractors': ['elements', 'component', 'aspect', 'dimension']}, {'question': 'At standard temperature and pressure, two atoms of the element bind to form dioxygen, a colorless and odorless diatomic _____ with the formula O2.', 'answer': 'gas', 'prob': 0.0, 'distractors': ['oil', 'gasoline', 'natural', 'fuel']}, {'question': 'At standard temperature and pressure, two atoms of the element bind to form dioxygen, a colorless and odorless diatomic gas with the _____ O2.', 'answer': 'formula', 'prob': 0.0, 'distractors': ['f1', 'formulas', 'prix', 'ferrari']}, {'question': \"Diatomic _____ gas constitutes 20.8% of the Earth's atmosphere.\", 'answer': 'oxygen', 'prob': 0.0, 'distractors': ['hydrogen', 'nitrogen', 'helium', 'nutrients']}, {'question': \"As compounds _____ oxides, the element makes up almost half of the Earth's crust.\", 'answer': 'including', 'prob': 0.0, 'distractors': ['include', 'included', 'other', 'such']}, {'question': 'It is a member of the chalcogen group on the periodic table, a _____ reactive nonmetal, and an oxidizing agent that readily forms oxides with most elements as well as with other compounds.', 'answer': 'highly', 'prob': 8.480646879694762e-172, 'distractors': ['extremely', 'very', 'most', 'less']}, {'question': 'It is a member of the chalcogen group on the periodic table, a highly reactive nonmetal, and an oxidizing agent that _____ forms oxides with most elements as well as with other compounds.', 'answer': 'readily', 'prob': 8.480646879694762e-172, 'distractors': ['easily', 'accessible', 'concedes', 'cannot']}, {'question': 'It is a member of the _____ group on the periodic table, a highly reactive nonmetal, and an oxidizing agent that readily forms oxides with most elements as well as with other compounds.', 'answer': 'chalcogen', 'prob': 1.867234785036223e-161, 'distractors': []}]\n"
     ]
    },
    {
     "data": {
      "text/markdown": [
       "### Question 1:"
      ],
      "text/plain": [
       "<IPython.core.display.Markdown object>"
      ]
     },
     "metadata": {},
     "output_type": "display_data"
    },
    {
     "name": "stdout",
     "output_type": "stream",
     "text": [
      "Oxygen is a _____ element with symbol O and atomic number 8.\n"
     ]
    },
    {
     "data": {
      "text/markdown": [
       "#### Answer:"
      ],
      "text/plain": [
       "<IPython.core.display.Markdown object>"
      ]
     },
     "metadata": {},
     "output_type": "display_data"
    },
    {
     "name": "stdout",
     "output_type": "stream",
     "text": [
      "chemical\n"
     ]
    },
    {
     "data": {
      "text/markdown": [
       "#### Incorrect answers:"
      ],
      "text/plain": [
       "<IPython.core.display.Markdown object>"
      ]
     },
     "metadata": {},
     "output_type": "display_data"
    },
    {
     "name": "stdout",
     "output_type": "stream",
     "text": [
      "chemicals\n",
      "biological\n",
      "toxic\n",
      "compounds\n",
      "\n"
     ]
    },
    {
     "data": {
      "text/markdown": [
       "### Question 2:"
      ],
      "text/plain": [
       "<IPython.core.display.Markdown object>"
      ]
     },
     "metadata": {},
     "output_type": "display_data"
    },
    {
     "name": "stdout",
     "output_type": "stream",
     "text": [
      "Oxygen is a chemical element with _____ O and atomic number 8.\n"
     ]
    },
    {
     "data": {
      "text/markdown": [
       "#### Answer:"
      ],
      "text/plain": [
       "<IPython.core.display.Markdown object>"
      ]
     },
     "metadata": {},
     "output_type": "display_data"
    },
    {
     "name": "stdout",
     "output_type": "stream",
     "text": [
      "symbol\n"
     ]
    },
    {
     "data": {
      "text/markdown": [
       "#### Incorrect answers:"
      ],
      "text/plain": [
       "<IPython.core.display.Markdown object>"
      ]
     },
     "metadata": {},
     "output_type": "display_data"
    },
    {
     "name": "stdout",
     "output_type": "stream",
     "text": [
      "symbols\n",
      "symbolizes\n",
      "symbolized\n",
      "symbolize\n",
      "\n"
     ]
    },
    {
     "data": {
      "text/markdown": [
       "### Question 3:"
      ],
      "text/plain": [
       "<IPython.core.display.Markdown object>"
      ]
     },
     "metadata": {},
     "output_type": "display_data"
    },
    {
     "name": "stdout",
     "output_type": "stream",
     "text": [
      "At standard temperature and pressure, two atoms of the _____ bind to form dioxygen, a colorless and odorless diatomic gas with the formula O2.\n"
     ]
    },
    {
     "data": {
      "text/markdown": [
       "#### Answer:"
      ],
      "text/plain": [
       "<IPython.core.display.Markdown object>"
      ]
     },
     "metadata": {},
     "output_type": "display_data"
    },
    {
     "name": "stdout",
     "output_type": "stream",
     "text": [
      "element\n"
     ]
    },
    {
     "data": {
      "text/markdown": [
       "#### Incorrect answers:"
      ],
      "text/plain": [
       "<IPython.core.display.Markdown object>"
      ]
     },
     "metadata": {},
     "output_type": "display_data"
    },
    {
     "name": "stdout",
     "output_type": "stream",
     "text": [
      "elements\n",
      "component\n",
      "aspect\n",
      "dimension\n",
      "\n"
     ]
    },
    {
     "data": {
      "text/markdown": [
       "### Question 4:"
      ],
      "text/plain": [
       "<IPython.core.display.Markdown object>"
      ]
     },
     "metadata": {},
     "output_type": "display_data"
    },
    {
     "name": "stdout",
     "output_type": "stream",
     "text": [
      "At standard temperature and pressure, two atoms of the element bind to form dioxygen, a colorless and odorless diatomic _____ with the formula O2.\n"
     ]
    },
    {
     "data": {
      "text/markdown": [
       "#### Answer:"
      ],
      "text/plain": [
       "<IPython.core.display.Markdown object>"
      ]
     },
     "metadata": {},
     "output_type": "display_data"
    },
    {
     "name": "stdout",
     "output_type": "stream",
     "text": [
      "gas\n"
     ]
    },
    {
     "data": {
      "text/markdown": [
       "#### Incorrect answers:"
      ],
      "text/plain": [
       "<IPython.core.display.Markdown object>"
      ]
     },
     "metadata": {},
     "output_type": "display_data"
    },
    {
     "name": "stdout",
     "output_type": "stream",
     "text": [
      "oil\n",
      "gasoline\n",
      "natural\n",
      "fuel\n",
      "\n"
     ]
    },
    {
     "data": {
      "text/markdown": [
       "### Question 5:"
      ],
      "text/plain": [
       "<IPython.core.display.Markdown object>"
      ]
     },
     "metadata": {},
     "output_type": "display_data"
    },
    {
     "name": "stdout",
     "output_type": "stream",
     "text": [
      "At standard temperature and pressure, two atoms of the element bind to form dioxygen, a colorless and odorless diatomic gas with the _____ O2.\n"
     ]
    },
    {
     "data": {
      "text/markdown": [
       "#### Answer:"
      ],
      "text/plain": [
       "<IPython.core.display.Markdown object>"
      ]
     },
     "metadata": {},
     "output_type": "display_data"
    },
    {
     "name": "stdout",
     "output_type": "stream",
     "text": [
      "formula\n"
     ]
    },
    {
     "data": {
      "text/markdown": [
       "#### Incorrect answers:"
      ],
      "text/plain": [
       "<IPython.core.display.Markdown object>"
      ]
     },
     "metadata": {},
     "output_type": "display_data"
    },
    {
     "name": "stdout",
     "output_type": "stream",
     "text": [
      "f1\n",
      "formulas\n",
      "prix\n",
      "ferrari\n",
      "\n"
     ]
    },
    {
     "data": {
      "text/markdown": [
       "### Question 6:"
      ],
      "text/plain": [
       "<IPython.core.display.Markdown object>"
      ]
     },
     "metadata": {},
     "output_type": "display_data"
    },
    {
     "name": "stdout",
     "output_type": "stream",
     "text": [
      "Diatomic _____ gas constitutes 20.8% of the Earth's atmosphere.\n"
     ]
    },
    {
     "data": {
      "text/markdown": [
       "#### Answer:"
      ],
      "text/plain": [
       "<IPython.core.display.Markdown object>"
      ]
     },
     "metadata": {},
     "output_type": "display_data"
    },
    {
     "name": "stdout",
     "output_type": "stream",
     "text": [
      "oxygen\n"
     ]
    },
    {
     "data": {
      "text/markdown": [
       "#### Incorrect answers:"
      ],
      "text/plain": [
       "<IPython.core.display.Markdown object>"
      ]
     },
     "metadata": {},
     "output_type": "display_data"
    },
    {
     "name": "stdout",
     "output_type": "stream",
     "text": [
      "hydrogen\n",
      "nitrogen\n",
      "helium\n",
      "nutrients\n",
      "\n"
     ]
    },
    {
     "data": {
      "text/markdown": [
       "### Question 7:"
      ],
      "text/plain": [
       "<IPython.core.display.Markdown object>"
      ]
     },
     "metadata": {},
     "output_type": "display_data"
    },
    {
     "name": "stdout",
     "output_type": "stream",
     "text": [
      "As compounds _____ oxides, the element makes up almost half of the Earth's crust.\n"
     ]
    },
    {
     "data": {
      "text/markdown": [
       "#### Answer:"
      ],
      "text/plain": [
       "<IPython.core.display.Markdown object>"
      ]
     },
     "metadata": {},
     "output_type": "display_data"
    },
    {
     "name": "stdout",
     "output_type": "stream",
     "text": [
      "including\n"
     ]
    },
    {
     "data": {
      "text/markdown": [
       "#### Incorrect answers:"
      ],
      "text/plain": [
       "<IPython.core.display.Markdown object>"
      ]
     },
     "metadata": {},
     "output_type": "display_data"
    },
    {
     "name": "stdout",
     "output_type": "stream",
     "text": [
      "include\n",
      "included\n",
      "other\n",
      "such\n",
      "\n"
     ]
    },
    {
     "data": {
      "text/markdown": [
       "### Question 8:"
      ],
      "text/plain": [
       "<IPython.core.display.Markdown object>"
      ]
     },
     "metadata": {},
     "output_type": "display_data"
    },
    {
     "name": "stdout",
     "output_type": "stream",
     "text": [
      "It is a member of the chalcogen group on the periodic table, a _____ reactive nonmetal, and an oxidizing agent that readily forms oxides with most elements as well as with other compounds.\n"
     ]
    },
    {
     "data": {
      "text/markdown": [
       "#### Answer:"
      ],
      "text/plain": [
       "<IPython.core.display.Markdown object>"
      ]
     },
     "metadata": {},
     "output_type": "display_data"
    },
    {
     "name": "stdout",
     "output_type": "stream",
     "text": [
      "highly\n"
     ]
    },
    {
     "data": {
      "text/markdown": [
       "#### Incorrect answers:"
      ],
      "text/plain": [
       "<IPython.core.display.Markdown object>"
      ]
     },
     "metadata": {},
     "output_type": "display_data"
    },
    {
     "name": "stdout",
     "output_type": "stream",
     "text": [
      "extremely\n",
      "very\n",
      "most\n",
      "less\n",
      "\n"
     ]
    },
    {
     "data": {
      "text/markdown": [
       "### Question 9:"
      ],
      "text/plain": [
       "<IPython.core.display.Markdown object>"
      ]
     },
     "metadata": {},
     "output_type": "display_data"
    },
    {
     "name": "stdout",
     "output_type": "stream",
     "text": [
      "It is a member of the chalcogen group on the periodic table, a highly reactive nonmetal, and an oxidizing agent that _____ forms oxides with most elements as well as with other compounds.\n"
     ]
    },
    {
     "data": {
      "text/markdown": [
       "#### Answer:"
      ],
      "text/plain": [
       "<IPython.core.display.Markdown object>"
      ]
     },
     "metadata": {},
     "output_type": "display_data"
    },
    {
     "name": "stdout",
     "output_type": "stream",
     "text": [
      "readily\n"
     ]
    },
    {
     "data": {
      "text/markdown": [
       "#### Incorrect answers:"
      ],
      "text/plain": [
       "<IPython.core.display.Markdown object>"
      ]
     },
     "metadata": {},
     "output_type": "display_data"
    },
    {
     "name": "stdout",
     "output_type": "stream",
     "text": [
      "easily\n",
      "accessible\n",
      "concedes\n",
      "cannot\n",
      "\n"
     ]
    },
    {
     "data": {
      "text/markdown": [
       "### Question 10:"
      ],
      "text/plain": [
       "<IPython.core.display.Markdown object>"
      ]
     },
     "metadata": {},
     "output_type": "display_data"
    },
    {
     "name": "stdout",
     "output_type": "stream",
     "text": [
      "It is a member of the _____ group on the periodic table, a highly reactive nonmetal, and an oxidizing agent that readily forms oxides with most elements as well as with other compounds.\n"
     ]
    },
    {
     "data": {
      "text/markdown": [
       "#### Answer:"
      ],
      "text/plain": [
       "<IPython.core.display.Markdown object>"
      ]
     },
     "metadata": {},
     "output_type": "display_data"
    },
    {
     "name": "stdout",
     "output_type": "stream",
     "text": [
      "chalcogen\n"
     ]
    },
    {
     "data": {
      "text/markdown": [
       "#### Incorrect answers:"
      ],
      "text/plain": [
       "<IPython.core.display.Markdown object>"
      ]
     },
     "metadata": {},
     "output_type": "display_data"
    },
    {
     "name": "stdout",
     "output_type": "stream",
     "text": [
      "\n"
     ]
    }
   ],
   "source": [
    "text = \"Oxygen is a chemical element with symbol O and atomic number 8. It is a member of the chalcogen group on the periodic table, a highly reactive nonmetal, and an oxidizing agent that readily forms oxides with most elements as well as with other compounds. By mass, oxygen is the third-most abundant element in the universe, after hydrogen and helium. At standard temperature and pressure, two atoms of the element bind to form dioxygen, a colorless and odorless diatomic gas with the formula O2. Diatomic oxygen gas constitutes 20.8% of the Earth's atmosphere. As compounds including oxides, the element makes up almost half of the Earth's crust.\"\n",
    "\n",
    "generateQuestions(text, 10)"
   ]
  },
  {
   "cell_type": "code",
   "execution_count": 37,
   "metadata": {},
   "outputs": [
    {
     "name": "stdout",
     "output_type": "stream",
     "text": [
      " * Serving Flask app '__main__'\n",
      " * Debug mode: off\n"
     ]
    },
    {
     "name": "stderr",
     "output_type": "stream",
     "text": [
      "WARNING: This is a development server. Do not use it in a production deployment. Use a production WSGI server instead.\n",
      " * Running on http://127.0.0.1:5000\n",
      "Press CTRL+C to quit\n"
     ]
    },
    {
     "name": "stderr",
     "output_type": "stream",
     "text": [
      "127.0.0.1 - - [01/Nov/2023 15:30:13] \"GET / HTTP/1.1\" 200 -\n",
      "127.0.0.1 - - [01/Nov/2023 15:30:13] \"GET /static/css/auth.css HTTP/1.1\" 304 -\n",
      "127.0.0.1 - - [01/Nov/2023 15:30:13] \"GET /static/js/auth.js HTTP/1.1\" 304 -\n",
      "127.0.0.1 - - [01/Nov/2023 15:30:13] \"GET /static/Assets/Container.png HTTP/1.1\" 304 -\n",
      "127.0.0.1 - - [01/Nov/2023 15:30:17] \"POST / HTTP/1.1\" 302 -\n",
      "127.0.0.1 - - [01/Nov/2023 15:30:17] \"GET /generate_qna HTTP/1.1\" 200 -\n",
      "127.0.0.1 - - [01/Nov/2023 15:30:18] \"GET /static/css/generate_qna.css HTTP/1.1\" 304 -\n"
     ]
    },
    {
     "name": "stdout",
     "output_type": "stream",
     "text": [
      "post method ************\n",
      "Launching quiz for subject: Oxygen is a chemical element with symbol O and atomic number 8. It is a member of the chalcogen group on the periodic table, a highly reactive nonmetal, and an oxidizing agent that readily forms oxides with most elements as well as with other compounds. By mass, oxygen is the third-most abundant element in the universe, after hydrogen and helium. At standard temperature and pressure, two atoms of the element bind to form dioxygen, a colorless and odorless diatomic gas with the formula O2. Diatomic oxygen gas constitutes 20.8% of the Earth's atmosphere. As compounds including oxides, the element makes up almost half of the Earth's crust.\n",
      "    wordCount  NER_CARDINAL  NER_LOC  NER_ORDINAL  NER_PERCENT  POS_ADJ  \\\n",
      "0           1         False    False        False        False    False   \n",
      "1           1         False    False        False        False    False   \n",
      "2           1         False    False        False        False    False   \n",
      "3           1         False    False        False        False    False   \n",
      "4           1         False    False        False        False    False   \n",
      "5           1         False    False        False        False     True   \n",
      "6           1         False    False        False        False    False   \n",
      "7           1          True    False        False        False    False   \n",
      "8           1         False    False        False        False    False   \n",
      "9           1         False    False        False        False    False   \n",
      "10          1         False    False        False        False    False   \n",
      "11          1         False    False        False        False     True   \n",
      "12          1         False    False        False        False    False   \n",
      "13          1         False    False        False        False    False   \n",
      "14          1         False    False        False        False     True   \n",
      "15          1         False    False        False        False    False   \n",
      "16          1         False    False        False        False     True   \n",
      "17          1         False    False        False        False    False   \n",
      "18          1         False    False        False        False    False   \n",
      "19          1         False    False        False        False    False   \n",
      "20          1         False    False        False        False    False   \n",
      "21          1         False    False        False        False    False   \n",
      "22          1         False    False        False        False    False   \n",
      "23          1         False    False        False        False    False   \n",
      "24          1         False    False        False        False    False   \n",
      "25          1         False    False         True        False    False   \n",
      "26          1         False    False        False        False     True   \n",
      "27          1         False    False        False        False    False   \n",
      "28          1         False    False        False        False    False   \n",
      "29          1         False    False        False        False    False   \n",
      "30          1         False    False        False        False    False   \n",
      "31          1         False    False        False        False     True   \n",
      "32          1         False    False        False        False    False   \n",
      "33          1         False    False        False        False    False   \n",
      "34          1          True    False        False        False    False   \n",
      "35          1         False    False        False        False    False   \n",
      "36          1         False    False        False        False    False   \n",
      "37          1         False    False        False        False    False   \n",
      "38          1         False    False        False        False    False   \n",
      "39          1         False    False        False        False    False   \n",
      "40          1         False    False        False        False     True   \n",
      "41          1         False    False        False        False     True   \n",
      "42          1         False    False        False        False     True   \n",
      "43          1         False    False        False        False    False   \n",
      "44          1         False    False        False        False    False   \n",
      "45          1         False    False        False        False     True   \n",
      "46          1         False    False        False        False    False   \n",
      "47          1         False    False        False        False    False   \n",
      "48          1         False    False        False        False    False   \n",
      "49          2         False    False        False         True    False   \n",
      "50          1         False     True        False        False    False   \n",
      "51          1         False    False        False        False    False   \n",
      "52          1         False    False        False        False    False   \n",
      "53          1         False    False        False        False    False   \n",
      "54          1         False    False        False        False    False   \n",
      "55          1         False    False        False        False    False   \n",
      "56          1         False    False        False        False    False   \n",
      "57          2          True    False        False        False    False   \n",
      "58          1         False     True        False        False    False   \n",
      "59          1         False    False        False        False    False   \n",
      "\n",
      "    POS_ADV  POS_NOUN  POS_PROPN  POS_VERB  ...  DEP_nmod  DEP_npadvmod  \\\n",
      "0     False      True      False     False  ...         0             0   \n",
      "1     False      True      False     False  ...         0             0   \n",
      "2     False      True      False     False  ...         0             0   \n",
      "3     False      True      False     False  ...         0             0   \n",
      "4     False      True      False     False  ...         0             0   \n",
      "5     False     False      False     False  ...         0             0   \n",
      "6     False      True      False     False  ...         0             0   \n",
      "7     False     False      False     False  ...         0             0   \n",
      "8     False      True      False     False  ...         0             0   \n",
      "9     False     False       True     False  ...         0             0   \n",
      "10    False     False       True     False  ...         0             0   \n",
      "11    False     False      False     False  ...         0             0   \n",
      "12    False      True      False     False  ...         0             0   \n",
      "13     True     False      False     False  ...         0             0   \n",
      "14    False     False      False     False  ...         0             0   \n",
      "15    False      True      False     False  ...         0             0   \n",
      "16    False     False      False     False  ...         0             0   \n",
      "17    False      True      False     False  ...         0             0   \n",
      "18     True     False      False     False  ...         0             0   \n",
      "19    False     False      False      True  ...         0             0   \n",
      "20    False      True      False     False  ...         0             0   \n",
      "21    False      True      False     False  ...         0             0   \n",
      "22    False      True      False     False  ...         0             0   \n",
      "23    False      True      False     False  ...         0             0   \n",
      "24    False      True      False     False  ...         0             0   \n",
      "25    False     False      False     False  ...         0             0   \n",
      "26    False     False      False     False  ...         0             0   \n",
      "27    False      True      False     False  ...         0             0   \n",
      "28    False      True      False     False  ...         0             0   \n",
      "29    False      True      False     False  ...         0             0   \n",
      "30    False      True      False     False  ...         0             0   \n",
      "31    False     False      False     False  ...         0             0   \n",
      "32    False      True      False     False  ...         0             0   \n",
      "33    False      True      False     False  ...         0             0   \n",
      "34    False     False      False     False  ...         0             0   \n",
      "35    False      True      False     False  ...         0             0   \n",
      "36    False      True      False     False  ...         0             0   \n",
      "37    False      True      False     False  ...         0             0   \n",
      "38    False     False      False      True  ...         0             0   \n",
      "39    False     False       True     False  ...         0             0   \n",
      "40    False     False      False     False  ...         0             0   \n",
      "41    False     False      False     False  ...         0             0   \n",
      "42    False     False      False     False  ...         0             0   \n",
      "43    False      True      False     False  ...         0             0   \n",
      "44    False      True      False     False  ...         0             0   \n",
      "45    False     False      False     False  ...         0             0   \n",
      "46    False      True      False     False  ...         0             0   \n",
      "47    False      True      False     False  ...         0             0   \n",
      "48    False     False      False      True  ...         0             0   \n",
      "49    False     False      False     False  ...         0             0   \n",
      "50    False     False      False     False  ...         0             0   \n",
      "51    False      True      False     False  ...         0             0   \n",
      "52    False      True      False     False  ...         0             0   \n",
      "53    False     False      False      True  ...         0             0   \n",
      "54    False      True      False     False  ...         0             0   \n",
      "55    False      True      False     False  ...         0             0   \n",
      "56    False     False      False      True  ...         0             0   \n",
      "57    False     False      False     False  ...         0             0   \n",
      "58    False     False      False     False  ...         0             0   \n",
      "59    False      True      False     False  ...         0             0   \n",
      "\n",
      "    DEP_nsubjpass  DEP_nummod  DEP_oprd  DEP_parataxis  DEP_pcomp  DEP_poss  \\\n",
      "0               0           0         0              0          0         0   \n",
      "1               0           0         0              0          0         0   \n",
      "2               0           0         0              0          0         0   \n",
      "3               0           0         0              0          0         0   \n",
      "4               0           0         0              0          0         0   \n",
      "5               0           0         0              0          0         0   \n",
      "6               0           0         0              0          0         0   \n",
      "7               0           0         0              0          0         0   \n",
      "8               0           0         0              0          0         0   \n",
      "9               0           0         0              0          0         0   \n",
      "10              0           0         0              0          0         0   \n",
      "11              0           0         0              0          0         0   \n",
      "12              0           0         0              0          0         0   \n",
      "13              0           0         0              0          0         0   \n",
      "14              0           0         0              0          0         0   \n",
      "15              0           0         0              0          0         0   \n",
      "16              0           0         0              0          0         0   \n",
      "17              0           0         0              0          0         0   \n",
      "18              0           0         0              0          0         0   \n",
      "19              0           0         0              0          0         0   \n",
      "20              0           0         0              0          0         0   \n",
      "21              0           0         0              0          0         0   \n",
      "22              0           0         0              0          0         0   \n",
      "23              0           0         0              0          0         0   \n",
      "24              0           0         0              0          0         0   \n",
      "25              0           0         0              0          0         0   \n",
      "26              0           0         0              0          0         0   \n",
      "27              0           0         0              0          0         0   \n",
      "28              0           0         0              0          0         0   \n",
      "29              0           0         0              0          0         0   \n",
      "30              0           0         0              0          0         0   \n",
      "31              0           0         0              0          0         0   \n",
      "32              0           0         0              0          0         0   \n",
      "33              0           0         0              0          0         0   \n",
      "34              0           0         0              0          0         0   \n",
      "35              0           0         0              0          0         0   \n",
      "36              0           0         0              0          0         0   \n",
      "37              0           0         0              0          0         0   \n",
      "38              0           0         0              0          0         0   \n",
      "39              0           0         0              0          0         0   \n",
      "40              0           0         0              0          0         0   \n",
      "41              0           0         0              0          0         0   \n",
      "42              0           0         0              0          0         0   \n",
      "43              0           0         0              0          0         0   \n",
      "44              0           0         0              0          0         0   \n",
      "45              0           0         0              0          0         0   \n",
      "46              0           0         0              0          0         0   \n",
      "47              0           0         0              0          0         0   \n",
      "48              0           0         0              0          0         0   \n",
      "49              0           0         0              0          0         0   \n",
      "50              0           0         0              0          0         0   \n",
      "51              0           0         0              0          0         0   \n",
      "52              0           0         0              0          0         0   \n",
      "53              0           0         0              0          0         0   \n",
      "54              0           0         0              0          0         0   \n",
      "55              0           0         0              0          0         0   \n",
      "56              0           0         0              0          0         0   \n",
      "57              0           0         0              0          0         0   \n",
      "58              0           0         0              0          0         0   \n",
      "59              0           0         0              0          0         0   \n",
      "\n",
      "    DEP_predet  DEP_xcomp  \n",
      "0            0          0  \n",
      "1            0          0  \n",
      "2            0          0  \n",
      "3            0          0  \n",
      "4            0          0  \n",
      "5            0          0  \n",
      "6            0          0  \n",
      "7            0          0  \n",
      "8            0          0  \n",
      "9            0          0  \n",
      "10           0          0  \n",
      "11           0          0  \n",
      "12           0          0  \n",
      "13           0          0  \n",
      "14           0          0  \n",
      "15           0          0  \n",
      "16           0          0  \n",
      "17           0          0  \n",
      "18           0          0  \n",
      "19           0          0  \n",
      "20           0          0  \n",
      "21           0          0  \n",
      "22           0          0  \n",
      "23           0          0  \n",
      "24           0          0  \n",
      "25           0          0  \n",
      "26           0          0  \n",
      "27           0          0  \n",
      "28           0          0  \n",
      "29           0          0  \n",
      "30           0          0  \n",
      "31           0          0  \n",
      "32           0          0  \n",
      "33           0          0  \n",
      "34           0          0  \n",
      "35           0          0  \n",
      "36           0          0  \n",
      "37           0          0  \n",
      "38           0          0  \n",
      "39           0          0  \n",
      "40           0          0  \n",
      "41           0          0  \n",
      "42           0          0  \n",
      "43           0          0  \n",
      "44           0          0  \n",
      "45           0          0  \n",
      "46           0          0  \n",
      "47           0          0  \n",
      "48           0          0  \n",
      "49           0          0  \n",
      "50           0          0  \n",
      "51           0          0  \n",
      "52           0          0  \n",
      "53           0          0  \n",
      "54           0          0  \n",
      "55           0          0  \n",
      "56           0          0  \n",
      "57           0          0  \n",
      "58           0          0  \n",
      "59           0          0  \n",
      "\n",
      "[60 rows x 77 columns]\n"
     ]
    },
    {
     "name": "stderr",
     "output_type": "stream",
     "text": [
      "c:\\Users\\SURYA S\\210623\\LearningApp\\venv\\lib\\site-packages\\sklearn\\base.py:310: UserWarning: Trying to unpickle estimator GaussianNB from version 0.24.1 when using version 0.24.2. This might lead to breaking code or invalid results. Use at your own risk.\n",
      "  warnings.warn(\n",
      "c:\\Users\\SURYA S\\210623\\LearningApp\\venv\\lib\\site-packages\\sklearn\\utils\\validation.py:571: FutureWarning: is_sparse is deprecated and will be removed in a future version. Check `isinstance(dtype, pd.SparseDtype)` instead.\n",
      "  array.dtypes.apply(is_sparse).any()):\n",
      "127.0.0.1 - - [01/Nov/2023 15:30:24] \"POST /quiz HTTP/1.1\" 200 -\n",
      "127.0.0.1 - - [01/Nov/2023 15:30:24] \"GET /static/css/quiz.css HTTP/1.1\" 304 -\n"
     ]
    },
    {
     "name": "stdout",
     "output_type": "stream",
     "text": [
      "[{'question': 'Oxygen is a _____ element with symbol O and atomic number 8.', 'answers': ['chemical', 'biological', 'toxic', 'compounds']}, {'question': 'Oxygen is a chemical element with _____ O and atomic number 8.', 'answers': ['symbol', 'symbolizes', 'symbolized', 'symbolize']}, {'question': 'At standard temperature and pressure, two atoms of the _____ bind to form dioxygen, a colorless and odorless diatomic gas with the formula O2.', 'answers': ['element', 'component', 'aspect', 'dimension']}, {'question': 'At standard temperature and pressure, two atoms of the element bind to form dioxygen, a colorless and odorless diatomic _____ with the formula O2.', 'answers': ['gas', 'gasoline', 'natural', 'fuel']}, {'question': 'At standard temperature and pressure, two atoms of the element bind to form dioxygen, a colorless and odorless diatomic gas with the _____ O2.', 'answers': ['formula', 'formulas', 'prix', 'ferrari']}, {'question': \"Diatomic _____ gas constitutes 20.8% of the Earth's atmosphere.\", 'answers': ['oxygen', 'nitrogen', 'helium', 'nutrients']}, {'question': \"As compounds _____ oxides, the element makes up almost half of the Earth's crust.\", 'answers': ['including', 'included', 'other', 'such']}, {'question': 'It is a member of the chalcogen group on the periodic table, a _____ reactive nonmetal, and an oxidizing agent that readily forms oxides with most elements as well as with other compounds.', 'answers': ['highly', 'very', 'most', 'less']}, {'question': 'It is a member of the chalcogen group on the periodic table, a highly reactive nonmetal, and an oxidizing agent that _____ forms oxides with most elements as well as with other compounds.', 'answers': ['readily', 'accessible', 'concedes', 'cannot']}, {'question': 'It is a member of the _____ group on the periodic table, a highly reactive nonmetal, and an oxidizing agent that readily forms oxides with most elements as well as with other compounds.', 'answers': ['chalcogen']}]\n",
      "Answers: ['chemical', 'symbol', 'element', 'gas', 'formula', 'oxygen', 'including', 'highly', 'readily', 'chalcogen']\n"
     ]
    },
    {
     "name": "stderr",
     "output_type": "stream",
     "text": [
      "127.0.0.1 - - [01/Nov/2023 15:30:44] \"POST /quiz/respnse HTTP/1.1\" 200 -\n",
      "127.0.0.1 - - [01/Nov/2023 15:30:44] \"GET /static/css/quiz.css HTTP/1.1\" 304 -\n"
     ]
    },
    {
     "name": "stdout",
     "output_type": "stream",
     "text": [
      "Question: [\"{'question': 'Oxygen is a _____ element with symbol O and atomic number 8.', 'answers': ['chemical', 'biological', 'toxic', 'compounds']}\", \"{'question': 'Oxygen is a _____ element with symbol O and atomic number 8.', 'answers': ['chemical', 'biological', 'toxic', 'compounds']}\", \"{'question': 'Oxygen is a _____ element with symbol O and atomic number 8.', 'answers': ['chemical', 'biological', 'toxic', 'compounds']}\", \"{'question': 'Oxygen is a _____ element with symbol O and atomic number 8.', 'answers': ['chemical', 'biological', 'toxic', 'compounds']}\", \"{'question': 'Oxygen is a chemical element with _____ O and atomic number 8.', 'answers': ['symbol', 'symbolizes', 'symbolized', 'symbolize']}\", \"{'question': 'Oxygen is a chemical element with _____ O and atomic number 8.', 'answers': ['symbol', 'symbolizes', 'symbolized', 'symbolize']}\", \"{'question': 'Oxygen is a chemical element with _____ O and atomic number 8.', 'answers': ['symbol', 'symbolizes', 'symbolized', 'symbolize']}\", \"{'question': 'Oxygen is a chemical element with _____ O and atomic number 8.', 'answers': ['symbol', 'symbolizes', 'symbolized', 'symbolize']}\", \"{'question': 'At standard temperature and pressure, two atoms of the _____ bind to form dioxygen, a colorless and odorless diatomic gas with the formula O2.', 'answers': ['element', 'component', 'aspect', 'dimension']}\", \"{'question': 'At standard temperature and pressure, two atoms of the _____ bind to form dioxygen, a colorless and odorless diatomic gas with the formula O2.', 'answers': ['element', 'component', 'aspect', 'dimension']}\", \"{'question': 'At standard temperature and pressure, two atoms of the _____ bind to form dioxygen, a colorless and odorless diatomic gas with the formula O2.', 'answers': ['element', 'component', 'aspect', 'dimension']}\", \"{'question': 'At standard temperature and pressure, two atoms of the _____ bind to form dioxygen, a colorless and odorless diatomic gas with the formula O2.', 'answers': ['element', 'component', 'aspect', 'dimension']}\", \"{'question': 'At standard temperature and pressure, two atoms of the element bind to form dioxygen, a colorless and odorless diatomic _____ with the formula O2.', 'answers': ['gas', 'gasoline', 'natural', 'fuel']}\", \"{'question': 'At standard temperature and pressure, two atoms of the element bind to form dioxygen, a colorless and odorless diatomic _____ with the formula O2.', 'answers': ['gas', 'gasoline', 'natural', 'fuel']}\", \"{'question': 'At standard temperature and pressure, two atoms of the element bind to form dioxygen, a colorless and odorless diatomic _____ with the formula O2.', 'answers': ['gas', 'gasoline', 'natural', 'fuel']}\", \"{'question': 'At standard temperature and pressure, two atoms of the element bind to form dioxygen, a colorless and odorless diatomic _____ with the formula O2.', 'answers': ['gas', 'gasoline', 'natural', 'fuel']}\", \"{'question': 'At standard temperature and pressure, two atoms of the element bind to form dioxygen, a colorless and odorless diatomic gas with the _____ O2.', 'answers': ['formula', 'formulas', 'prix', 'ferrari']}\", \"{'question': 'At standard temperature and pressure, two atoms of the element bind to form dioxygen, a colorless and odorless diatomic gas with the _____ O2.', 'answers': ['formula', 'formulas', 'prix', 'ferrari']}\", \"{'question': 'At standard temperature and pressure, two atoms of the element bind to form dioxygen, a colorless and odorless diatomic gas with the _____ O2.', 'answers': ['formula', 'formulas', 'prix', 'ferrari']}\", \"{'question': 'At standard temperature and pressure, two atoms of the element bind to form dioxygen, a colorless and odorless diatomic gas with the _____ O2.', 'answers': ['formula', 'formulas', 'prix', 'ferrari']}\", '{\\'question\\': \"Diatomic _____ gas constitutes 20.8% of the Earth\\'s atmosphere.\", \\'answers\\': [\\'oxygen\\', \\'nitrogen\\', \\'helium\\', \\'nutrients\\']}', '{\\'question\\': \"Diatomic _____ gas constitutes 20.8% of the Earth\\'s atmosphere.\", \\'answers\\': [\\'oxygen\\', \\'nitrogen\\', \\'helium\\', \\'nutrients\\']}', '{\\'question\\': \"Diatomic _____ gas constitutes 20.8% of the Earth\\'s atmosphere.\", \\'answers\\': [\\'oxygen\\', \\'nitrogen\\', \\'helium\\', \\'nutrients\\']}', '{\\'question\\': \"Diatomic _____ gas constitutes 20.8% of the Earth\\'s atmosphere.\", \\'answers\\': [\\'oxygen\\', \\'nitrogen\\', \\'helium\\', \\'nutrients\\']}', '{\\'question\\': \"As compounds _____ oxides, the element makes up almost half of the Earth\\'s crust.\", \\'answers\\': [\\'including\\', \\'included\\', \\'other\\', \\'such\\']}', '{\\'question\\': \"As compounds _____ oxides, the element makes up almost half of the Earth\\'s crust.\", \\'answers\\': [\\'including\\', \\'included\\', \\'other\\', \\'such\\']}', '{\\'question\\': \"As compounds _____ oxides, the element makes up almost half of the Earth\\'s crust.\", \\'answers\\': [\\'including\\', \\'included\\', \\'other\\', \\'such\\']}', '{\\'question\\': \"As compounds _____ oxides, the element makes up almost half of the Earth\\'s crust.\", \\'answers\\': [\\'including\\', \\'included\\', \\'other\\', \\'such\\']}', \"{'question': 'It is a member of the chalcogen group on the periodic table, a _____ reactive nonmetal, and an oxidizing agent that readily forms oxides with most elements as well as with other compounds.', 'answers': ['highly', 'very', 'most', 'less']}\", \"{'question': 'It is a member of the chalcogen group on the periodic table, a _____ reactive nonmetal, and an oxidizing agent that readily forms oxides with most elements as well as with other compounds.', 'answers': ['highly', 'very', 'most', 'less']}\", \"{'question': 'It is a member of the chalcogen group on the periodic table, a _____ reactive nonmetal, and an oxidizing agent that readily forms oxides with most elements as well as with other compounds.', 'answers': ['highly', 'very', 'most', 'less']}\", \"{'question': 'It is a member of the chalcogen group on the periodic table, a _____ reactive nonmetal, and an oxidizing agent that readily forms oxides with most elements as well as with other compounds.', 'answers': ['highly', 'very', 'most', 'less']}\", \"{'question': 'It is a member of the chalcogen group on the periodic table, a highly reactive nonmetal, and an oxidizing agent that _____ forms oxides with most elements as well as with other compounds.', 'answers': ['readily', 'accessible', 'concedes', 'cannot']}\", \"{'question': 'It is a member of the chalcogen group on the periodic table, a highly reactive nonmetal, and an oxidizing agent that _____ forms oxides with most elements as well as with other compounds.', 'answers': ['readily', 'accessible', 'concedes', 'cannot']}\", \"{'question': 'It is a member of the chalcogen group on the periodic table, a highly reactive nonmetal, and an oxidizing agent that _____ forms oxides with most elements as well as with other compounds.', 'answers': ['readily', 'accessible', 'concedes', 'cannot']}\", \"{'question': 'It is a member of the chalcogen group on the periodic table, a highly reactive nonmetal, and an oxidizing agent that _____ forms oxides with most elements as well as with other compounds.', 'answers': ['readily', 'accessible', 'concedes', 'cannot']}\", \"{'question': 'It is a member of the _____ group on the periodic table, a highly reactive nonmetal, and an oxidizing agent that readily forms oxides with most elements as well as with other compounds.', 'answers': ['chalcogen']}\"]\n",
      "Selected Answers: ['toxic', 'symbolized', 'component', 'fuel', 'formulas', 'nutrients', 'such', 'very', 'concedes', 'chalcogen']\n"
     ]
    },
    {
     "name": "stderr",
     "output_type": "stream",
     "text": [
      "127.0.0.1 - - [01/Nov/2023 15:30:46] \"GET /quiz HTTP/1.1\" 200 -\n",
      "127.0.0.1 - - [01/Nov/2023 15:30:46] \"GET /static/css/quiz.css HTTP/1.1\" 304 -\n",
      "127.0.0.1 - - [01/Nov/2023 15:30:51] \"GET /logout HTTP/1.1\" 302 -\n",
      "127.0.0.1 - - [01/Nov/2023 15:30:51] \"GET / HTTP/1.1\" 200 -\n",
      "127.0.0.1 - - [01/Nov/2023 15:30:51] \"GET /static/js/auth.js HTTP/1.1\" 304 -\n",
      "127.0.0.1 - - [01/Nov/2023 15:30:51] \"GET /static/css/auth.css HTTP/1.1\" 304 -\n",
      "127.0.0.1 - - [01/Nov/2023 15:30:51] \"GET /static/Assets/Container.png HTTP/1.1\" 304 -\n"
     ]
    }
   ],
   "source": [
    "from flask import Flask, render_template, request, redirect, url_for , jsonify\n",
    "import json\n",
    "import utils\n",
    "import os\n",
    "# from gensim.models import KeyedVectors\n",
    "\n",
    "\n",
    "app = Flask(__name__)\n",
    "\n",
    "# glove_file = 'data/embeddings/glove.6B.300d.txt'\n",
    "# tmp_file = 'data/embeddings/word2vec-glove.6B.300d.txt'\n",
    "# model = None\n",
    "\n",
    "# if os.path.isfile(glove_file):\n",
    "#     from gensim.scripts.glove2word2vec import glove2word2vec\n",
    "#     glove2word2vec(glove_file, tmp_file)\n",
    "#     model = KeyedVectors.load_word2vec_format(tmp_file)\n",
    "# else:\n",
    "#     print(\"Glove embeddings not found. Please download and place them in the following path: \" + glove_file)\n",
    "\n",
    "global answers\n",
    "global quiz_data_v2\n",
    "global questionText\n",
    "\n",
    "questionText = \"\"\n",
    "\n",
    "with open(\"details.json\", \"r\") as jf:\n",
    "    data = json.load(jf)\n",
    "    users = data[\"login\"]\n",
    "\n",
    "@app.route('/', methods=['GET', 'POST'])\n",
    "def login():\n",
    "    if request.method == 'POST':\n",
    "        # Retrieve form data\n",
    "        email = request.form.get('login-email')\n",
    "        password = request.form.get('login-password')\n",
    "\n",
    "        # Do something with the form data (e.g., authentication)\n",
    "        if email in users.keys() and users[email]==password:\n",
    "            # Redirect to generate_qna.html\n",
    "            return redirect(url_for('generate_qna'))\n",
    "\n",
    "    return render_template('auth.html')\n",
    "\n",
    "\n",
    "@app.route('/signup', methods=['GET', 'POST'])\n",
    "def signup():\n",
    "    if request.method == 'POST':\n",
    "        # Retrieve form data\n",
    "        email = request.form.get('signup-email')\n",
    "        password = request.form.get('signup-password')\n",
    "        password2 = request.form.get('confirm-signup-password')\n",
    "\n",
    "        # Perform validation or other actions with the form data\n",
    "        with open(\"details.json\", \"w\") as jfk:\n",
    "            users[email] = password\n",
    "            json.dump(users, jfk)\n",
    "       \n",
    "        # Print form data (for demonstration purposes)\n",
    "        print(f'Email: {email}, Password: {password} ,  password2 : { password2}')\n",
    "        \n",
    "        # Add your logic for user registration or other actions\n",
    "        return redirect(url_for('login'))\n",
    "\n",
    "    return render_template('auth.html')\n",
    "\n",
    "\n",
    "\n",
    "\n",
    "@app.route('/create_post' , methods=['GET', 'POST'] )\n",
    "def create_post():\n",
    "    # Additional logic for generating Q&A or render a template\n",
    "     if request.method == 'POST':\n",
    "            # Retrieve form data\n",
    "        new_post = request.form.get('post-input')\n",
    "       \n",
    "\n",
    "        # Perform validation or other actions with the form data\n",
    "       \n",
    "        # Print form data (for demonstration purposes)\n",
    "        print(f'new_post: {new_post}')\n",
    "        return redirect(url_for('forum'))\n",
    "    \n",
    "\n",
    "\n",
    "\n",
    "@app.route('/generate_qna' , methods=['GET', 'POST'])\n",
    "def generate_qna():\n",
    "    # Additional logic for generating Q&A or render a template\n",
    "    question_data = [\n",
    "    {\"subject\": \"Math\", \"num_questions\": 10},\n",
    "    {\"subject\": \"Science\", \"num_questions\": 10},\n",
    "    {\"subject\": \"Python\", \"num_questions\": 10},\n",
    "    {\"subject\": \"Networks\", \"num_questions\": 10},\n",
    "    # Add more data as needed\n",
    "]\n",
    "\n",
    "    return render_template('generate_qna.html' , questions=question_data)\n",
    "\n",
    "\n",
    "@app.route('/answer_evaluation')\n",
    "def answer_evaluation():\n",
    "    subj_data = data[\"scores\"]\n",
    "    subjects_data = [\n",
    "        {\"subject\": list(subj_data.keys())[0], \"score\": subj_data[list(subj_data.keys())[0]]},\n",
    "        {\"subject\": list(subj_data.keys())[1], \"score\": subj_data[list(subj_data.keys())[1]]},\n",
    "        {\"subject\": list(subj_data.keys())[2], \"score\": subj_data[list(subj_data.keys())[2]]},\n",
    "    ]\n",
    "\n",
    "    return render_template('answer_evaluation.html', subjects_data=subjects_data)\n",
    "    # Additional logic for generating Q&A or render a template\n",
    "  \n",
    "\n",
    "\n",
    "@app.route('/forum')\n",
    "def forum():\n",
    "    # Additional logic for generating Q&A or render a template\n",
    "    return render_template('forum.html')\n",
    "\n",
    "\n",
    "@app.route('/quiz' , methods=['GET', 'POST'])\n",
    "def quiz():\n",
    "    global answers\n",
    "    global quiz_data_v2\n",
    "    global questionText\n",
    "    quiz_data = [\n",
    "\n",
    "    {\n",
    "        \"question\": \"For Fiscal year 2021, what was your total GhG Carbon Emission for all scopes?\",\n",
    "        \"distractors\": [\n",
    "            \"Scope 1 - Determine environmental impact levels.\",\n",
    "            \"Scope 2 - Reduce carbon footprints.\",\n",
    "            \"Scope 3 - Enhance environmental impacts on a larger scale.\",\n",
    "            \"I do not know the answer to this question.\",\n",
    "        ],\n",
    "    },\n",
    "    {\n",
    "        \"question\": \"Another question?\",\n",
    "        \"distractors\": [\n",
    "            \"Option 1\",\n",
    "            \"Option 2\",\n",
    "            \"Option 3\",\n",
    "            \"I do not know the answer to this question.\",\n",
    "        ],\n",
    "    },\n",
    "\n",
    "\n",
    "    # Add more questions and answers as needed\n",
    "    ]\n",
    "    if request.method == 'POST':\n",
    "        print(\"post method ************\")\n",
    "        global questionText\n",
    "        questionText = request.form.get('questionText')\n",
    "        print(f\"Launching quiz for subject: {questionText}\")\n",
    "        quiz_data = utils.generateQuestions(questionText, 10, model=model)\n",
    "\n",
    "        quiz_data_v2 = []\n",
    "        answers = []\n",
    "        for item in quiz_data:\n",
    "            # d = ast.literal_eval(item)\n",
    "            js_data = {\n",
    "                \"question\": item['question'],\n",
    "                \"answers\": [item['answer']]+item['distractors'][1:]\n",
    "            }\n",
    "            quiz_data_v2.append(js_data)\n",
    "            answers.append(item['answer'])\n",
    "        print(quiz_data_v2)\n",
    "        print(\"Answers:\", answers)\n",
    "\n",
    "        # return redirect(url_for('quiz'))\n",
    "        render_template('quiz.html' , quiz_data=quiz_data_v2)\n",
    "    \n",
    "    return render_template('quiz.html', quiz_data=quiz_data_v2)\n",
    "            \n",
    "\n",
    "\n",
    "\n",
    "@app.route('/quiz/respnse', methods=['GET', 'POST'])\n",
    "def quiz_response():\n",
    "    if request.method == 'POST':\n",
    "        # Form data submitted, process it\n",
    "        question = request.form.getlist('question')\n",
    "        selected_answers = request.form.getlist('selected-answer')\n",
    "        # Do something with selected_answers\n",
    "\n",
    "        score = 0\n",
    "        for i in range(len(answers)):\n",
    "            if answers[i]==selected_answers[i]:\n",
    "                score += 1\n",
    "\n",
    "        # For now, just print the selected answers\n",
    "        print(\"Question:\", question)\n",
    "        print(\"Selected Answers:\", selected_answers)\n",
    "        result = \"fail\" if score<5 else \"pass\"\n",
    "        # You can redirect to a different page or render a new template\n",
    "        return render_template('quiz.html', result=result)\n",
    "\n",
    "    # If it's a GET request, render the quiz form\n",
    "    # return render_template('quiz.html', quiz_data=quiz_data)\n",
    "\n",
    "        \n",
    "\n",
    "@app.route('/logout')\n",
    "def logout():\n",
    "    # Additional logic for generating Q&A or render a template\n",
    "    return redirect(url_for('login'))\n",
    "\n",
    "\n",
    "\n",
    "\n",
    "if __name__ == '__main__':\n",
    "    app.run(debug=False)\n"
   ]
  },
  {
   "cell_type": "code",
   "execution_count": null,
   "metadata": {},
   "outputs": [],
   "source": []
  }
 ],
 "metadata": {
  "kernelspec": {
   "display_name": "Python 3",
   "language": "python",
   "name": "python3"
  },
  "language_info": {
   "codemirror_mode": {
    "name": "ipython",
    "version": 3
   },
   "file_extension": ".py",
   "mimetype": "text/x-python",
   "name": "python",
   "nbconvert_exporter": "python",
   "pygments_lexer": "ipython3",
   "version": "3.9.10"
  }
 },
 "nbformat": 4,
 "nbformat_minor": 4
}
